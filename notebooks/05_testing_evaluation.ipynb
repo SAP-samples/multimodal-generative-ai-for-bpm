{
 "cells": [
  {
   "cell_type": "markdown",
   "metadata": {},
   "source": [
    "# Temporary Notebook that can be used to experiment with the evaluation part"
   ]
  },
  {
   "cell_type": "code",
   "execution_count": 2,
   "metadata": {},
   "outputs": [],
   "source": [
    "import sys, json\n",
    "sys.path.append(\"../\")\n",
    "sys.path.append(\"../src/\")\n",
    "\n"
   ]
  },
  {
   "cell_type": "code",
   "execution_count": 2,
   "metadata": {},
   "outputs": [],
   "source": [
    "from src.multimodalgenai.evaluation import bpmn_similarity"
   ]
  },
  {
   "cell_type": "code",
   "execution_count": 11,
   "metadata": {},
   "outputs": [
    {
     "name": "stdout",
     "output_type": "stream",
     "text": [
      "{'tasks': [{'id': 'sid-F2162E0B-8820-4516-86C3-822A206FF56A', 'name': 'Record the data of each patient', 'type': 'Task'}, {'id': 'sid-61D0608F-AC41-4638-835D-3A31916C00D0', 'name': 'Register the SSN of the patient', 'type': 'Task'}, {'id': 'sid-22DC0EDD-2D97-4F68-B480-965F96556C12', 'name': 'Register the Name of the patient', 'type': 'Task'}, {'id': 'sid-B144D450-6159-40AE-BE6B-B2073C0015C8', 'name': 'Register the Surname of the patient', 'type': 'Task'}, {'id': 'sid-5334A692-3A36-4F39-8685-E775EC57CCA4', 'name': 'Print referral document', 'type': 'Task'}, {'id': 'sid-A2742D3F-AD10-44B4-BF29-D43CBA6DB1B5', 'name': 'Archive the record in the file system', 'type': 'Task'}], 'events': [{'id': 'sid-9E39102B-56AD-49DE-ABD7-E0702EB7BC23', 'name': 'Patient registers  in the hospital', 'type': 'StartNoneEvent'}, {'id': 'sid-6EA815FF-0864-4A0F-904A-5AC78C96897C', 'name': 'Registration completed', 'type': 'EndNoneEvent'}], 'gateways': [{'id': 'sid-1C37A46B-F6E6-4263-93AC-DE4439129F09', 'type': 'Parallel'}, {'id': 'sid-0E53C1DA-4D30-429F-A552-E940145F3FD1', 'type': 'Parallel'}], 'pools': [{'id': 'sid-7eb27c9f-3112-46dc-9e16-5c8e1ffc9c12', 'name': 'Clerks', 'lanes': [{'id': 'sid-CF82E3A0-61CB-404C-8FC8-B1AEB10AC17C', 'name': '', 'elemRefs': ['sid-F2162E0B-8820-4516-86C3-822A206FF56A', 'sid-61D0608F-AC41-4638-835D-3A31916C00D0', 'sid-22DC0EDD-2D97-4F68-B480-965F96556C12', 'sid-B144D450-6159-40AE-BE6B-B2073C0015C8', 'sid-5334A692-3A36-4F39-8685-E775EC57CCA4', 'sid-A2742D3F-AD10-44B4-BF29-D43CBA6DB1B5', 'sid-9E39102B-56AD-49DE-ABD7-E0702EB7BC23', 'sid-6EA815FF-0864-4A0F-904A-5AC78C96897C', 'sid-1C37A46B-F6E6-4263-93AC-DE4439129F09', 'sid-0E53C1DA-4D30-429F-A552-E940145F3FD1']}]}], 'messageFlows': [], 'sequenceFlows': [{'id': 'sid-51B77193-B855-4079-80AE-C73197F6EA51', 'targetRef': 'sid-F2162E0B-8820-4516-86C3-822A206FF56A', 'sourceRef': 'sid-9E39102B-56AD-49DE-ABD7-E0702EB7BC23'}, {'id': 'sid-3CDD7938-E2CE-4026-8F03-CA40254EE5BD', 'targetRef': 'sid-1C37A46B-F6E6-4263-93AC-DE4439129F09', 'sourceRef': 'sid-F2162E0B-8820-4516-86C3-822A206FF56A'}, {'id': 'sid-84B1E291-AC30-4016-B4C3-5A973F54F810', 'targetRef': 'sid-61D0608F-AC41-4638-835D-3A31916C00D0', 'sourceRef': 'sid-1C37A46B-F6E6-4263-93AC-DE4439129F09'}, {'id': 'sid-18EA097D-EC06-431C-B59C-C6A5CF275FCD', 'targetRef': 'sid-22DC0EDD-2D97-4F68-B480-965F96556C12', 'sourceRef': 'sid-1C37A46B-F6E6-4263-93AC-DE4439129F09'}, {'id': 'sid-65E4B6AC-42DF-4A0D-A359-E3AA72840B71', 'targetRef': 'sid-B144D450-6159-40AE-BE6B-B2073C0015C8', 'sourceRef': 'sid-1C37A46B-F6E6-4263-93AC-DE4439129F09'}, {'id': 'sid-DE60A326-7ADE-479C-B24A-A41A7559A7EF', 'targetRef': 'sid-0E53C1DA-4D30-429F-A552-E940145F3FD1', 'sourceRef': 'sid-61D0608F-AC41-4638-835D-3A31916C00D0'}, {'id': 'sid-EB73407F-BE96-4B65-9BD6-4EDF50D98479', 'targetRef': 'sid-0E53C1DA-4D30-429F-A552-E940145F3FD1', 'sourceRef': 'sid-22DC0EDD-2D97-4F68-B480-965F96556C12'}, {'id': 'sid-88F04AAF-A752-465B-B211-864E0E2C83DE', 'targetRef': 'sid-0E53C1DA-4D30-429F-A552-E940145F3FD1', 'sourceRef': 'sid-B144D450-6159-40AE-BE6B-B2073C0015C8'}, {'id': 'sid-FBD5B883-FC07-41DD-BCDF-E569425E29B2', 'targetRef': 'sid-5334A692-3A36-4F39-8685-E775EC57CCA4', 'sourceRef': 'sid-0E53C1DA-4D30-429F-A552-E940145F3FD1'}, {'id': 'sid-BB1B4946-36AB-40E8-94F0-6C47E7947AEA', 'targetRef': 'sid-A2742D3F-AD10-44B4-BF29-D43CBA6DB1B5', 'sourceRef': 'sid-5334A692-3A36-4F39-8685-E775EC57CCA4'}, {'id': 'sid-A11F83FE-850A-483A-A9FE-8464A031CD5F', 'targetRef': 'sid-6EA815FF-0864-4A0F-904A-5AC78C96897C', 'sourceRef': 'sid-A2742D3F-AD10-44B4-BF29-D43CBA6DB1B5'}]}\n",
      "{'tasks': [{'id': '0', 'name': 'Record the data of each patient', 'type': 'Task'}, {'id': '1', 'name': 'Register the SSN of the patient', 'type': 'Task'}, {'id': '2', 'name': 'Register the Name of the patient', 'type': 'Task'}, {'id': '3', 'name': 'Register the Surname of the patient', 'type': 'Task'}, {'id': '4', 'name': 'Print referral document', 'type': 'Task'}, {'id': '5', 'name': 'Archive the record in the file system', 'type': 'Task'}], 'events': [{'id': '6', 'name': 'Patient registers in the hospital', 'type': 'StartNoneEvent'}, {'id': '7', 'name': 'Registration completed', 'type': 'EndNoneEvent'}], 'gateways': [{'id': '8', 'type': 'Parallel'}, {'id': '9', 'type': 'Parallel'}], 'pools': [{'id': '10', 'name': 'Clerks', 'lanes': [{'id': '11', 'name': 'Lane', 'elemRefs': ['0', '1', '2', '3', '4', '5', '6', '7']}]}], 'sequenceFlows': [{'id': '12', 'sourceRef': '6', 'targetRef': '0'}, {'id': '13', 'sourceRef': '0', 'targetRef': '8'}, {'id': '14', 'sourceRef': '8', 'targetRef': '1'}, {'id': '15', 'sourceRef': '8', 'targetRef': '2'}, {'id': '16', 'sourceRef': '8', 'targetRef': '3'}, {'id': '17', 'sourceRef': '1', 'targetRef': '9'}, {'id': '18', 'sourceRef': '2', 'targetRef': '9'}, {'id': '19', 'sourceRef': '3', 'targetRef': '9'}, {'id': '20', 'sourceRef': '9', 'targetRef': '4'}, {'id': '21', 'sourceRef': '4', 'targetRef': '5'}, {'id': '22', 'sourceRef': '5', 'targetRef': '7'}], 'messageFlows': []}\n"
     ]
    }
   ],
   "source": [
    "# load ground truth from examples\n",
    "filename_ground_truth = f\"../data/examples/3_groundt.json\"\n",
    "with open(filename_ground_truth, 'r') as infile:\n",
    "    ground_truth = json.load(infile)\n",
    "\n",
    "# load generated from examples\n",
    "filename_generated = f\"../data/examples/3_generated.json\"\n",
    "with open(filename_generated, 'r') as infile:\n",
    "    generated = json.load(infile)\n",
    "\n",
    "print(ground_truth)\n",
    "print(generated)"
   ]
  },
  {
   "cell_type": "code",
   "execution_count": 13,
   "metadata": {},
   "outputs": [
    {
     "data": {
      "text/plain": [
       "({'overall': 0.9024390243902439,\n",
       "  'tasks_overall': 1.0,\n",
       "  'task_names': 1.0,\n",
       "  'task_types': 1.0,\n",
       "  'events_overall': 1.0,\n",
       "  'event_names': 1.0,\n",
       "  'event_types': 1.0,\n",
       "  'gateways_overall': 1.0,\n",
       "  'gateway_names': 1,\n",
       "  'gateway_types': 1.0,\n",
       "  'flows_overall': 1.0,\n",
       "  'sequence_flows': 1.0,\n",
       "  'message_flows': 1,\n",
       "  'lanes_overall': 0.6666666666666666,\n",
       "  'lanes_without_refs': 0.0,\n",
       "  'lanes_with_refs': 0.8},\n",
       " 0.9024390243902439)"
      ]
     },
     "execution_count": 13,
     "metadata": {},
     "output_type": "execute_result"
    }
   ],
   "source": [
    "bpmn_similarity.calculate_similarity_scores(ground_truth, generated, method = 'jaccard', similarity_threshold=0.7)"
   ]
  },
  {
   "cell_type": "code",
   "execution_count": 4,
   "metadata": {},
   "outputs": [
    {
     "data": {
      "text/plain": [
       "(['apple', 'grape', 'a grape'], ['apple', 'a grape', 'grape'])"
      ]
     },
     "execution_count": 4,
     "metadata": {},
     "output_type": "execute_result"
    }
   ],
   "source": [
    "from src.multimodalgenai.evaluation.list_similarity import make_similar_items_equal, index_list, dice_list\n",
    "from src.multimodalgenai.evaluation.string_similarity import bert_cosine_optimized\n",
    "list1 = [\"apple\", \"grape\", \"a grape\"]\n",
    "list2 = [\"apple\", \"grapefruit\", \"grape\"]\n",
    "make_similar_items_equal(list1, list2)"
   ]
  }
 ],
 "metadata": {
  "kernelspec": {
   "display_name": "ml_mac",
   "language": "python",
   "name": "python3"
  },
  "language_info": {
   "codemirror_mode": {
    "name": "ipython",
    "version": 3
   },
   "file_extension": ".py",
   "mimetype": "text/x-python",
   "name": "python",
   "nbconvert_exporter": "python",
   "pygments_lexer": "ipython3",
   "version": "3.8.18"
  }
 },
 "nbformat": 4,
 "nbformat_minor": 2
}
